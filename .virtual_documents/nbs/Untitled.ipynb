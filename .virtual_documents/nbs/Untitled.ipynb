


#| default_exp products


#| export
import requests
import json
import os
import keyring
import sqlite3
import datetime


#| export
# API Configuration
api_key = keyring.get_password("Shopify", "SHOPIFY_API_KEY")
access_token = keyring.get_password("Shopify", "SHOPIFY_API_PASSWORD")
shop_url = keyring.get_password("Shopify", "SHOPIFY_SHOP_URL")
graphql_endpoint = 'https://' + shop_url + '/admin/api/2025-01/graphql.json'

# Headers for API requests
headers = {
    'X-Shopify-Access-Token': access_token,
    'Content-Type': 'application/json'
}






#| export
#Product fields to retrieve
product_fields = '''
    id
    descriptionHtml
    createdAt
    hasOutOfStockVariants
    inCollection {
        id
    }
    isGiftCard
    mediaCount {
        count
    }
'''





#| export
# Import all products
def fetch_all_products():
    products = []
    has_next_page = True
    cursor = None
    
    while has_next_page:
        if cursor:
            query = f'''
            {{
              products(first: 10, after: "{cursor}") {{
                pageInfo {{
                  hasNextPage
                  endCursor
                }}
                edges {{
                  node {{
                    {product_fields}
                  }}
                }}
              }}
            }}
            '''
        else:
            query = f'''
            {{
              products(first: 10) {{
                pageInfo {{
                  hasNextPage
                  endCursor
                }}
                edges {{
                  node {{
                    {product_fields}
                  }}
                }}
              }}
            }}
            '''
            
        try:
            response = requests.post(graphql_endpoint, json={'query': query}, headers=headers)
            response.raise_for_status()
            result = response.json()
            
            page_products = result['data']['products']['edges']
            for edge in page_products:
                products.append(edge['node'])
            
            has_next_page = result['data']['products']['pageInfo']['hasNextPage']
            cursor = result['data']['products']['pageInfo']['endCursor']
            
            #print(f"Fetched {len(page_products)} customers. Total so far: {len(customers)}")
            
        except Exception as e:
            print(f"Error fetching customers: {e}")
            break
    
    return products





#| hide
from nbdev.showdoc import *


#| hide
import nbdev; nbdev.nbdev_export()



