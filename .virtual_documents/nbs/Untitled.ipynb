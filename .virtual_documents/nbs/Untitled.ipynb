


import requests
import json
import os
import keyring
import sqlite3
import datetime


#| hide
from nbdev.showdoc import *






