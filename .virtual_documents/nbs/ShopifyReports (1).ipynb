


import keyring


api_key = keyring.get_password("Shopify", "SHOPIFY_API_KEY")
access_token = keyring.get_password("Shopify", "SHOPIFY_API_PASSWORD")
shop_url = keyring.get_password("Shopify", "SHOPIFY_SHOP_URL")

















!pip install requests














graphql_endpoint = 'https://' + shop_url + '/admin/api/2025-01/graphql.json'














headers = {
    'X-Shopify-Access-Token': access_token,
    'Content-Type': 'application/json'
}








query = '''
{
  shop {
    name
    primaryDomain {
      url
    }
  }
}
'''








import requests
import json

data = {'query': query}
response = requests.post(graphql_endpoint, json=data, headers=headers)


response








result = response.json()
print(json.dumps(result, indent=2))


























query = '''
{
  customers(first: 10) {
    pageInfo {
      hasNextPage
      endCursor
    }
    edges {
      cursor
      node {
        id
        email
        firstName
        lastName
      }
    }
  }
}
'''


data = {'query': query}
response = requests.post(graphql_endpoint, json=data, headers=headers)


result = response.json()
result














end_cursor = result['data']['customers']['pageInfo']['endCursor']


query = '''
{
  customers(first: 10, after: "''' + end_cursor + '''") {
    pageInfo {
      hasNextPage
      endCursor
    }
    edges {
      cursor
      node {
        id
        email
        firstName
        lastName
      }
    }
  }
}
'''


data = {'query': query}
response = requests.post(graphql_endpoint, json=data, headers=headers)
print(response.content)

















customer_fields = '''
    id
    email
    firstName
    lastName
    createdAt
    displayName
    phone
    lifetimeDuration
    note
    numberOfOrders
    tags
    updatedAt
    verifiedEmail
    addresses {
        address1
        address2
        city
        province
        country
        zip
    }
    amountSpent {
        amount
            }
    defaultAddress {
        address1
        address2
        city
        company
        id
        phone
        zip
    }
'''





def fetch_all_customers(max_loops=3):
    customers = []
    has_next_page = True
    cursor = None
    loop_count = 0
    
    while has_next_page and loop_count < max_loops:
        if cursor:
            query = f'''
            {{
              customers(first: 10, after: "{cursor}") {{
                pageInfo {{
                  hasNextPage
                  endCursor
                }}
                edges {{
                  node {{
                    {customer_fields}
                  }}
                }}
              }}
            }}
            '''
        else:
            query = f'''
            {{
              customers(first: 10) {{
                pageInfo {{
                  hasNextPage
                  endCursor
                }}
                edges {{
                  node {{
                    {customer_fields}
                  }}
                }}
              }}
            }}
            '''
            
        try:
            response = requests.post(graphql_endpoint, json={'query': query}, headers=headers)
            response.raise_for_status()
            result = response.json()
            
            page_customers = result['data']['customers']['edges']
            for edge in page_customers:
                customers.append(edge['node'])
            
            has_next_page = result['data']['customers']['pageInfo']['hasNextPage']
            cursor = result['data']['customers']['pageInfo']['endCursor']
            
            print(f"Fetched {len(page_customers)} customers. Total so far: {len(customers)}")
            loop_count += 1
            
        except Exception as e:
            print(f"Error fetching customers: {e}")
            break
    
    return customers








def fetch_all_customers(max_loops=3):
    customers = []
    has_next_page = True
    cursor = None
    loop_count = 0
    
    while has_next_page and loop_count < max_loops:
        if cursor:
            query = f'''
            {{
              customers(first: 10, after: "{cursor}") {{
                pageInfo {{
                  hasNextPage
                  endCursor
                }}
                edges {{
                  node {{
                    {customer_fields}
                  }}
                }}
              }}
            }}
            '''
        else:
            query = f'''
            {{
              customers(first: 10) {{
                pageInfo {{
                  hasNextPage
                  endCursor
                }}
                edges {{
                  node {{
                    {customer_fields}
                  }}
                }}
              }}
            }}
            '''
            
        try:
            response = requests.post(graphql_endpoint, json={'query': query}, headers=headers)
            response.raise_for_status()
            result = response.json()
            print("Full response:", json.dumps(result, indent=2))
            
            page_customers = result['data']['customers']['edges']
            for edge in page_customers:
                customers.append(edge['node'])
            
            has_next_page = result['data']['customers']['pageInfo']['hasNextPage']
            cursor = result['data']['customers']['pageInfo']['endCursor']
            
            print(f"Fetched {len(page_customers)} customers. Total so far: {len(customers)}")
            loop_count += 1
            
        except Exception as e:
            print(f"Error fetching customers. Response content:")
            print(response.content)
            break
    
    return customers

# Let's run it
fetch_all_customers()














fetch_all_customers()


























import keyring

















