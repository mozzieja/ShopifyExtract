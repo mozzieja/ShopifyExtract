{
 "cells": [
  {
   "cell_type": "markdown",
   "id": "78ac472a-d0fb-4f70-81e6-bbae6681989e",
   "metadata": {},
   "source": [
    "# This notebook is to import all products from your Shopify Store\n"
   ]
  },
  {
   "cell_type": "code",
   "execution_count": 1,
   "id": "6340aeaf-81ed-4844-955c-2920bd00100c",
   "metadata": {},
   "outputs": [],
   "source": [
    "import requests\n",
    "import json\n",
    "import os\n",
    "import keyring\n",
    "import sqlite3\n",
    "import datetime"
   ]
  },
  {
   "cell_type": "code",
   "execution_count": 2,
   "id": "be2cfa76-6396-4af1-908e-2c3e43f203f9",
   "metadata": {},
   "outputs": [],
   "source": [
    "#| hide\n",
    "from nbdev.showdoc import *"
   ]
  },
  {
   "cell_type": "code",
   "execution_count": 3,
   "id": "e49b24e2-9666-4cc9-b0ba-cad9c7598ad1",
   "metadata": {},
   "outputs": [],
   "source": [
    "#| hide\n",
    "import nbdev; nbdev.nbdev_export()"
   ]
  },
  {
   "cell_type": "code",
   "execution_count": null,
   "id": "271d06ac-e6b4-4443-bbd6-76693e3cef05",
   "metadata": {},
   "outputs": [],
   "source": []
  }
 ],
 "metadata": {
  "kernelspec": {
   "display_name": "Python 3 (ipykernel)",
   "language": "python",
   "name": "python3"
  },
  "language_info": {
   "codemirror_mode": {
    "name": "ipython",
    "version": 3
   },
   "file_extension": ".py",
   "mimetype": "text/x-python",
   "name": "python",
   "nbconvert_exporter": "python",
   "pygments_lexer": "ipython3",
   "version": "3.12.2"
  }
 },
 "nbformat": 4,
 "nbformat_minor": 5
}
